{
 "metadata": {
  "name": "",
  "signature": "sha256:55dffa684731ffd526d6b44075fc7891fe7fa4e17e1db78f92ba4a1807cf8bf7"
 },
 "nbformat": 3,
 "nbformat_minor": 0,
 "worksheets": [
  {
   "cells": [
    {
     "cell_type": "code",
     "collapsed": false,
     "input": [
      "!python count_cfg_freq.py parse_train.dat > cfg.counts"
     ],
     "language": "python",
     "metadata": {},
     "outputs": [],
     "prompt_number": 2
    },
    {
     "cell_type": "code",
     "collapsed": false,
     "input": [
      "!head cfg.counts"
     ],
     "language": "python",
     "metadata": {},
     "outputs": [
      {
       "output_type": "stream",
       "stream": "stdout",
       "text": [
        "1 NONTERMINAL NP+ADVP\r\n",
        "254 NONTERMINAL VP+VERB\r\n",
        "65 NONTERMINAL SBAR\r\n",
        "81 NONTERMINAL ADJP\r\n",
        "30 NONTERMINAL WHADVP\r\n",
        "1808 NONTERMINAL DET\r\n",
        "1 NONTERMINAL S+VP+VERB\r\n",
        "2 NONTERMINAL NP+VERB\r\n",
        "817 NONTERMINAL WHNP+PRON\r\n",
        "2 NONTERMINAL NP+S\r\n"
       ]
      }
     ],
     "prompt_number": 9
    },
    {
     "cell_type": "code",
     "collapsed": false,
     "input": [
      "import p1\n",
      "import json\n",
      "import pretty_print_tree as ppt"
     ],
     "language": "python",
     "metadata": {},
     "outputs": [],
     "prompt_number": 57
    },
    {
     "cell_type": "code",
     "collapsed": false,
     "input": [
      "reload(p1)\n",
      "from p1 import *"
     ],
     "language": "python",
     "metadata": {},
     "outputs": [],
     "prompt_number": 126
    },
    {
     "cell_type": "code",
     "collapsed": false,
     "input": [
      "tagger = Tagger()\n",
      "parse_file = 'parse_train.dat'\n",
      "\n",
      "for l in open(parse_file):\n",
      "    t = json.loads(l)\n",
      "    tagger.count(t)\n",
      "tagger.count_word()\n",
      "\n",
      "print len(tagger.wc)"
     ],
     "language": "python",
     "metadata": {},
     "outputs": [
      {
       "output_type": "stream",
       "stream": "stdout",
       "text": [
        "3714\n"
       ]
      }
     ],
     "prompt_number": 128
    },
    {
     "cell_type": "code",
     "collapsed": false,
     "input": [
      "print tagger.wc['animal']"
     ],
     "language": "python",
     "metadata": {},
     "outputs": [
      {
       "output_type": "stream",
       "stream": "stdout",
       "text": [
        "5\n"
       ]
      }
     ],
     "prompt_number": 129
    },
    {
     "cell_type": "code",
     "collapsed": false,
     "input": [
      "rare_filename = 'parse_train.rare'\n",
      "output = file(rare_filename, 'w')\n",
      "for l in open(parse_file):\n",
      "    #ppt.pretty_print_tree(json.loads(tagger.replace_rare_tag(l)))\n",
      "    output.write(\"%s\\n\" % (tagger.replace_rare_tag(l)))\n",
      "output.close()"
     ],
     "language": "python",
     "metadata": {},
     "outputs": [],
     "prompt_number": 130
    },
    {
     "cell_type": "code",
     "collapsed": false,
     "input": [
      "tagger2 = Tagger()\n",
      "\n",
      "for l in open(rare_filename):\n",
      "    tagger2.count(json.loads(l))"
     ],
     "language": "python",
     "metadata": {},
     "outputs": [],
     "prompt_number": 131
    },
    {
     "cell_type": "code",
     "collapsed": false,
     "input": [
      "len(tagger2.unary)"
     ],
     "language": "python",
     "metadata": {},
     "outputs": [
      {
       "metadata": {},
       "output_type": "pyout",
       "prompt_number": 132,
       "text": [
        "457"
       ]
      }
     ],
     "prompt_number": 132
    },
    {
     "cell_type": "code",
     "collapsed": false,
     "input": [
      "!python count_cfg_freq.py parse_train.rare > parse_train.counts.out"
     ],
     "language": "python",
     "metadata": {},
     "outputs": [],
     "prompt_number": 133
    }
   ],
   "metadata": {}
  }
 ]
}