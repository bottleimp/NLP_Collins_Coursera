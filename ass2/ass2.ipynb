{
 "metadata": {
  "name": "",
  "signature": "sha256:48870933d12d7168c4becfd56d03f703b6b7c5f98d5b5ceb3d277c1a9cead990"
 },
 "nbformat": 3,
 "nbformat_minor": 0,
 "worksheets": [
  {
   "cells": [
    {
     "cell_type": "code",
     "collapsed": false,
     "input": [
      "!python count_cfg_freq.py parse_train.dat > cfg.counts"
     ],
     "language": "python",
     "metadata": {},
     "outputs": [],
     "prompt_number": 2
    },
    {
     "cell_type": "code",
     "collapsed": false,
     "input": [
      "!head cfg.counts"
     ],
     "language": "python",
     "metadata": {},
     "outputs": [
      {
       "output_type": "stream",
       "stream": "stdout",
       "text": [
        "1 NONTERMINAL NP+ADVP\r\n",
        "254 NONTERMINAL VP+VERB\r\n",
        "65 NONTERMINAL SBAR\r\n",
        "81 NONTERMINAL ADJP\r\n",
        "30 NONTERMINAL WHADVP\r\n",
        "1808 NONTERMINAL DET\r\n",
        "1 NONTERMINAL S+VP+VERB\r\n",
        "2 NONTERMINAL NP+VERB\r\n",
        "817 NONTERMINAL WHNP+PRON\r\n",
        "2 NONTERMINAL NP+S\r\n"
       ]
      }
     ],
     "prompt_number": 9
    },
    {
     "cell_type": "code",
     "collapsed": false,
     "input": [
      "import p1\n",
      "import json\n",
      "import pretty_print_tree as ppt"
     ],
     "language": "python",
     "metadata": {},
     "outputs": [],
     "prompt_number": 146
    },
    {
     "cell_type": "code",
     "collapsed": false,
     "input": [
      "reload(p1)\n",
      "from p1 import *"
     ],
     "language": "python",
     "metadata": {},
     "outputs": [],
     "prompt_number": 222
    },
    {
     "cell_type": "code",
     "collapsed": false,
     "input": [
      "tagger = Tagger()\n",
      "parse_file = 'parse_train.dat'\n",
      "\n",
      "for l in open(parse_file):\n",
      "    t = json.loads(l)\n",
      "    tagger.count(t)\n",
      "tagger.count_word()\n",
      "\n",
      "print len(tagger.wc)"
     ],
     "language": "python",
     "metadata": {},
     "outputs": [
      {
       "output_type": "stream",
       "stream": "stdout",
       "text": [
        "3714\n"
       ]
      }
     ],
     "prompt_number": 148
    },
    {
     "cell_type": "code",
     "collapsed": false,
     "input": [
      "print tagger.wc['animal']"
     ],
     "language": "python",
     "metadata": {},
     "outputs": [
      {
       "output_type": "stream",
       "stream": "stdout",
       "text": [
        "5\n"
       ]
      }
     ],
     "prompt_number": 149
    },
    {
     "cell_type": "code",
     "collapsed": false,
     "input": [
      "rare_filename = 'parse_train.rare'\n",
      "output = file(rare_filename, 'w')\n",
      "for l in open(parse_file):\n",
      "    #ppt.pretty_print_tree(json.loads(tagger.replace_rare_tag(l)))\n",
      "    output.write(\"%s\\n\" % (tagger.replace_rare_tag(l)))\n",
      "output.close()"
     ],
     "language": "python",
     "metadata": {},
     "outputs": [],
     "prompt_number": 150
    },
    {
     "cell_type": "code",
     "collapsed": false,
     "input": [
      "!python count_cfg_freq.py parse_train.rare > parse_train.counts.out"
     ],
     "language": "python",
     "metadata": {},
     "outputs": [],
     "prompt_number": 151
    },
    {
     "cell_type": "heading",
     "level": 1,
     "metadata": {},
     "source": [
      "p2"
     ]
    },
    {
     "cell_type": "code",
     "collapsed": false,
     "input": [
      "import p1\n",
      "reload(p1)\n",
      "from p1 import *\n",
      "parser = Parser()\n",
      "\n",
      "rare_filename = 'parse_train.rare'\n",
      "\n",
      "for l in open(rare_filename):\n",
      "    parser.count(json.loads(l))\n",
      "parser.count_word()"
     ],
     "language": "python",
     "metadata": {},
     "outputs": [],
     "prompt_number": 19
    },
    {
     "cell_type": "code",
     "collapsed": false,
     "input": [
      "print parser.unary[('NOUN', 'film')], parser.nonterm['VP+VERB']\n",
      "parser.is_rare_word('What')"
     ],
     "language": "python",
     "metadata": {},
     "outputs": [
      {
       "output_type": "stream",
       "stream": "stdout",
       "text": [
        "9 254\n"
       ]
      },
      {
       "metadata": {},
       "output_type": "pyout",
       "prompt_number": 4,
       "text": [
        "False"
       ]
      }
     ],
     "prompt_number": 4
    },
    {
     "cell_type": "code",
     "collapsed": false,
     "input": [
      "s = 'What was the monetary value of the Nobel Peace Prize in 1989 ?'\n",
      "sentence = s.split()\n",
      "parser.parser(sentence)"
     ],
     "language": "python",
     "metadata": {},
     "outputs": [
      {
       "metadata": {},
       "output_type": "pyout",
       "prompt_number": 7,
       "text": [
        "['SBARQ',\n",
        " [u'WHNP+PRON', 'What'],\n",
        " [u'SBARQ',\n",
        "  [u'SQ',\n",
        "   [u'VERB', 'was'],\n",
        "   [u'NP',\n",
        "    [u'DET', 'the'],\n",
        "    [u'NP',\n",
        "     [u'NP', [u'NOUN', 'monetary'], [u'NOUN', 'value']],\n",
        "     [u'PP',\n",
        "      [u'ADP', 'of'],\n",
        "      [u'NP',\n",
        "       [u'DET', 'the'],\n",
        "       [u'NP',\n",
        "        [u'NOUN', 'Nobel'],\n",
        "        [u'NP',\n",
        "         [u'NP', [u'NOUN', 'Peace'], [u'NOUN', 'Prize']],\n",
        "         [u'PP', [u'ADP', 'in'], [u'NP+NOUN', '1989']]]]]]]]],\n",
        "  [u'.', '?']]]"
       ]
      }
     ],
     "prompt_number": 7
    },
    {
     "cell_type": "code",
     "collapsed": false,
     "input": [
      "import json\n",
      "tree = parser.parser(sentence)\n",
      "json.dumps(tree)"
     ],
     "language": "python",
     "metadata": {},
     "outputs": [
      {
       "metadata": {},
       "output_type": "pyout",
       "prompt_number": 10,
       "text": [
        "'[\"SBARQ\", [\"WHNP+PRON\", \"What\"], [\"SBARQ\", [\"SQ\", [\"VERB\", \"was\"], [\"NP\", [\"DET\", \"the\"], [\"NP\", [\"NP\", [\"NOUN\", \"monetary\"], [\"NOUN\", \"value\"]], [\"PP\", [\"ADP\", \"of\"], [\"NP\", [\"DET\", \"the\"], [\"NP\", [\"NOUN\", \"Nobel\"], [\"NP\", [\"NP\", [\"NOUN\", \"Peace\"], [\"NOUN\", \"Prize\"]], [\"PP\", [\"ADP\", \"in\"], [\"NP+NOUN\", \"1989\"]]]]]]]]], [\".\", \"?\"]]]'"
       ]
      }
     ],
     "prompt_number": 10
    },
    {
     "cell_type": "code",
     "collapsed": false,
     "input": [
      "input_filename = 'parse_dev.dat'\n",
      "output_filename = 'parse_dev.out'\n",
      "parser.output_parse(input_filename, output_filename)"
     ],
     "language": "python",
     "metadata": {},
     "outputs": [],
     "prompt_number": 22
    },
    {
     "cell_type": "code",
     "collapsed": false,
     "input": [
      "input_filename = 'parse_dev.dat.h1'\n",
      "for line in file(input_filename):\n",
      "    words = line.strip().split(' ')\n",
      "    print words\n",
      "    print json.dumps(parser.parser(words))"
     ],
     "language": "python",
     "metadata": {},
     "outputs": [
      {
       "output_type": "stream",
       "stream": "stdout",
       "text": [
        "['What', 'was', 'the', 'monetary', 'value', 'of', 'the', 'Nobel', 'Peace', 'Prize', 'in', '1989', '?']\n",
        "[\"SBARQ\", [\"WHNP+PRON\", \"What\"], [\"SBARQ\", [\"SQ\", [\"VERB\", \"was\"], [\"NP\", [\"DET\", \"the\"], [\"NP\", [\"NP\", [\"NOUN\", \"monetary\"], [\"NOUN\", \"value\"]], [\"PP\", [\"ADP\", \"of\"], [\"NP\", [\"DET\", \"the\"], [\"NP\", [\"NOUN\", \"Nobel\"], [\"NP\", [\"NP\", [\"NOUN\", \"Peace\"], [\"NOUN\", \"Prize\"]], [\"PP\", [\"ADP\", \"in\"], [\"NP+NOUN\", \"1989\"]]]]]]]]], [\".\", \"?\"]]]"
       ]
      },
      {
       "output_type": "stream",
       "stream": "stdout",
       "text": [
        "\n"
       ]
      }
     ],
     "prompt_number": 18
    },
    {
     "cell_type": "heading",
     "level": 1,
     "metadata": {},
     "source": [
      "P3"
     ]
    },
    {
     "cell_type": "code",
     "collapsed": false,
     "input": [
      "import p1\n",
      "reload(p1)\n",
      "from p1 import *\n",
      "\n",
      "vparser = VertParser()\n",
      "parse_file = 'parse_train_vert.dat'\n",
      "\n",
      "for l in open(parse_file):\n",
      "    t = json.loads(l)\n",
      "    vparser.count(t)\n",
      "vparser.count_word()\n",
      "\n",
      "rare_filename = 'parse_train_vert.rare'\n",
      "output = file(rare_filename, 'w')\n",
      "for l in open(parse_file):\n",
      "    #ppt.pretty_print_tree(json.loads(tagger.replace_rare_tag(l)))\n",
      "    output.write(\"%s\\n\" % (vparser.replace_rare_tag(l)))\n",
      "output.close()"
     ],
     "language": "python",
     "metadata": {},
     "outputs": [],
     "prompt_number": 23
    },
    {
     "cell_type": "code",
     "collapsed": false,
     "input": [
      "!python count_cfg_freq.py parse_train_vert.rare > parse_train_vert.counts.out"
     ],
     "language": "python",
     "metadata": {},
     "outputs": [],
     "prompt_number": 24
    },
    {
     "cell_type": "code",
     "collapsed": false,
     "input": [
      "import p1\n",
      "reload(p1)\n",
      "from p1 import *\n",
      "\n",
      "vparser = VertParser()\n",
      "rare_filename = 'parse_train_vert.rare'\n",
      "\n",
      "for l in open(rare_filename):\n",
      "    vparser.count(json.loads(l))\n",
      "vparser.count_word()"
     ],
     "language": "python",
     "metadata": {},
     "outputs": [],
     "prompt_number": 2
    },
    {
     "cell_type": "code",
     "collapsed": false,
     "input": [
      "s = 'What was the monetary value of the Nobel Peace Prize in 1989 ?'\n",
      "sentence = s.split()\n",
      "vparser.parser(sentence)"
     ],
     "language": "python",
     "metadata": {},
     "outputs": [
      {
       "metadata": {},
       "output_type": "pyout",
       "prompt_number": 3,
       "text": [
        "['SBARQ',\n",
        " [u'WHNP^<SBARQ>+PRON', 'What'],\n",
        " [u'SBARQ',\n",
        "  [u'SQ^<SBARQ>',\n",
        "   [u'VERB', 'was'],\n",
        "   [u'SQ',\n",
        "    [u'NP^<SQ>',\n",
        "     [u'NP^<NP>',\n",
        "      [u'DET', 'the'],\n",
        "      [u'NP', [u'NOUN', 'monetary'], [u'NOUN', 'value']]],\n",
        "     [u'PP^<NP>',\n",
        "      [u'ADP', 'of'],\n",
        "      [u'NP^<PP>',\n",
        "       [u'DET', 'the'],\n",
        "       [u'NP', [u'NOUN', 'Nobel'], [u'NOUN', 'Peace']]]]],\n",
        "    [u'VP^<SQ>',\n",
        "     [u'VERB', 'Prize'],\n",
        "     [u'PP^<VP>', [u'ADP', 'in'], [u'NP^<PP>+NOUN', '1989']]]]],\n",
        "  [u'.', '?']]]"
       ]
      }
     ],
     "prompt_number": 3
    },
    {
     "cell_type": "code",
     "collapsed": false,
     "input": [
      "input_filename = 'parse_dev.dat.h1'\n",
      "output_filename = 'parse_dev_vert.out'\n",
      "%timeit -n1 -r1 vparser.output_parse(input_filename, output_filename)"
     ],
     "language": "python",
     "metadata": {},
     "outputs": [
      {
       "output_type": "stream",
       "stream": "stdout",
       "text": [
        "sentence to process: What was the monetary value of the Nobel Peace Prize in 1989 ?\n",
        "\n",
        "sentence to process: What does the Peugeot company manufacture ?\n"
       ]
      },
      {
       "output_type": "stream",
       "stream": "stdout",
       "text": [
        "\n",
        "sentence to process: How much did Mercury spend on advertising in 1993 ?\n"
       ]
      },
      {
       "output_type": "stream",
       "stream": "stdout",
       "text": [
        "\n",
        "sentence to process: What is the name of the managing director of Apricot Computer ?\n"
       ]
      },
      {
       "output_type": "stream",
       "stream": "stdout",
       "text": [
        "\n",
        "sentence to process: Why did David Koresh ask the FBI for a word processor ?\n"
       ]
      },
      {
       "output_type": "stream",
       "stream": "stdout",
       "text": [
        "\n",
        "1 loops, best of 1: 49.1 s per loop"
       ]
      },
      {
       "output_type": "stream",
       "stream": "stdout",
       "text": [
        "\n"
       ]
      }
     ],
     "prompt_number": 32
    },
    {
     "cell_type": "code",
     "collapsed": false,
     "input": [
      "input_filename = 'parse_dev.dat.h1'\n",
      "output_filename = 'parse_dev_vert.out'\n",
      "%timeit -n1 -r1 vparser.output_parse(input_filename, output_filename)"
     ],
     "language": "python",
     "metadata": {},
     "outputs": [
      {
       "output_type": "stream",
       "stream": "stdout",
       "text": [
        "sentence to process: What was the monetary value of the Nobel Peace Prize in 1989 ?\n",
        "\n",
        "sentence to process: What does the Peugeot company manufacture ?\n"
       ]
      },
      {
       "output_type": "stream",
       "stream": "stdout",
       "text": [
        "\n",
        "sentence to process: How much did Mercury spend on advertising in 1993 ?\n"
       ]
      },
      {
       "output_type": "stream",
       "stream": "stdout",
       "text": [
        "\n",
        "sentence to process: What is the name of the managing director of Apricot Computer ?\n"
       ]
      },
      {
       "output_type": "stream",
       "stream": "stdout",
       "text": [
        "\n",
        "sentence to process: Why did David Koresh ask the FBI for a word processor ?\n"
       ]
      },
      {
       "output_type": "stream",
       "stream": "stdout",
       "text": [
        "\n",
        "1 loops, best of 1: 50.8 s per loop"
       ]
      },
      {
       "output_type": "stream",
       "stream": "stdout",
       "text": [
        "\n"
       ]
      }
     ],
     "prompt_number": 35
    }
   ],
   "metadata": {}
  }
 ]
}