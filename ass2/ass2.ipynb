{
 "metadata": {
  "name": "",
  "signature": "sha256:1ca3d9d0e3c2a2d84ee79175d15fcbc58df87713585fa0b34fac71a0d6984396"
 },
 "nbformat": 3,
 "nbformat_minor": 0,
 "worksheets": [
  {
   "cells": [
    {
     "cell_type": "code",
     "collapsed": false,
     "input": [
      "!python count_cfg_freq.py parse_train.dat > cfg.counts"
     ],
     "language": "python",
     "metadata": {},
     "outputs": [],
     "prompt_number": 2
    },
    {
     "cell_type": "code",
     "collapsed": false,
     "input": [
      "!head cfg.counts"
     ],
     "language": "python",
     "metadata": {},
     "outputs": [
      {
       "output_type": "stream",
       "stream": "stdout",
       "text": [
        "1 NONTERMINAL NP+ADVP\r\n",
        "254 NONTERMINAL VP+VERB\r\n",
        "65 NONTERMINAL SBAR\r\n",
        "81 NONTERMINAL ADJP\r\n",
        "30 NONTERMINAL WHADVP\r\n",
        "1808 NONTERMINAL DET\r\n",
        "1 NONTERMINAL S+VP+VERB\r\n",
        "2 NONTERMINAL NP+VERB\r\n",
        "817 NONTERMINAL WHNP+PRON\r\n",
        "2 NONTERMINAL NP+S\r\n"
       ]
      }
     ],
     "prompt_number": 9
    },
    {
     "cell_type": "code",
     "collapsed": false,
     "input": [
      "import p1\n",
      "import json\n",
      "import pretty_print_tree as ppt"
     ],
     "language": "python",
     "metadata": {},
     "outputs": [],
     "prompt_number": 146
    },
    {
     "cell_type": "code",
     "collapsed": false,
     "input": [
      "reload(p1)\n",
      "from p1 import *"
     ],
     "language": "python",
     "metadata": {},
     "outputs": [],
     "prompt_number": 222
    },
    {
     "cell_type": "code",
     "collapsed": false,
     "input": [
      "tagger = Tagger()\n",
      "parse_file = 'parse_train.dat'\n",
      "\n",
      "for l in open(parse_file):\n",
      "    t = json.loads(l)\n",
      "    tagger.count(t)\n",
      "tagger.count_word()\n",
      "\n",
      "print len(tagger.wc)"
     ],
     "language": "python",
     "metadata": {},
     "outputs": [
      {
       "output_type": "stream",
       "stream": "stdout",
       "text": [
        "3714\n"
       ]
      }
     ],
     "prompt_number": 148
    },
    {
     "cell_type": "code",
     "collapsed": false,
     "input": [
      "print tagger.wc['animal']"
     ],
     "language": "python",
     "metadata": {},
     "outputs": [
      {
       "output_type": "stream",
       "stream": "stdout",
       "text": [
        "5\n"
       ]
      }
     ],
     "prompt_number": 149
    },
    {
     "cell_type": "code",
     "collapsed": false,
     "input": [
      "rare_filename = 'parse_train.rare'\n",
      "output = file(rare_filename, 'w')\n",
      "for l in open(parse_file):\n",
      "    #ppt.pretty_print_tree(json.loads(tagger.replace_rare_tag(l)))\n",
      "    output.write(\"%s\\n\" % (tagger.replace_rare_tag(l)))\n",
      "output.close()"
     ],
     "language": "python",
     "metadata": {},
     "outputs": [],
     "prompt_number": 150
    },
    {
     "cell_type": "code",
     "collapsed": false,
     "input": [
      "!python count_cfg_freq.py parse_train.rare > parse_train.counts.out"
     ],
     "language": "python",
     "metadata": {},
     "outputs": [],
     "prompt_number": 151
    },
    {
     "cell_type": "code",
     "collapsed": false,
     "input": [
      "reload(p1)\n",
      "from p1 import *\n",
      "parser = Parser()\n",
      "\n",
      "for l in open(rare_filename):\n",
      "    parser.count(json.loads(l))\n",
      "parser.count_word()"
     ],
     "language": "python",
     "metadata": {},
     "outputs": [],
     "prompt_number": 367
    },
    {
     "cell_type": "code",
     "collapsed": false,
     "input": [
      "print parser.unary[('NOUN', 'film')], parser.nonterm['VP+VERB']\n",
      "parser.is_rare_word('What')"
     ],
     "language": "python",
     "metadata": {},
     "outputs": [
      {
       "output_type": "stream",
       "stream": "stdout",
       "text": [
        "9 254\n"
       ]
      },
      {
       "metadata": {},
       "output_type": "pyout",
       "prompt_number": 368,
       "text": [
        "False"
       ]
      }
     ],
     "prompt_number": 368
    },
    {
     "cell_type": "code",
     "collapsed": false,
     "input": [
      "s = 'What was the monetary value of the Nobel Peace Prize in 1989 ?'\n",
      "sentence = s.split()\n",
      "parser.parser(sentence)"
     ],
     "language": "python",
     "metadata": {},
     "outputs": [
      {
       "metadata": {},
       "output_type": "pyout",
       "prompt_number": 369,
       "text": [
        "['SBARQ',\n",
        " [u'WHNP+PRON', 'What'],\n",
        " [u'SBARQ',\n",
        "  [u'SQ',\n",
        "   [u'VERB', 'was'],\n",
        "   [u'NP',\n",
        "    [u'DET', 'the'],\n",
        "    [u'NP',\n",
        "     [u'NP', [u'NOUN', 'monetary'], [u'NOUN', 'value']],\n",
        "     [u'PP',\n",
        "      [u'ADP', 'of'],\n",
        "      [u'NP',\n",
        "       [u'DET', 'the'],\n",
        "       [u'NP',\n",
        "        [u'NOUN', 'Nobel'],\n",
        "        [u'NP',\n",
        "         [u'NP', [u'NOUN', 'Peace'], [u'NOUN', 'Prize']],\n",
        "         [u'PP', [u'ADP', 'in'], [u'NP+NOUN', '1989']]]]]]]]],\n",
        "  [u'.', '?']]]"
       ]
      }
     ],
     "prompt_number": 369
    },
    {
     "cell_type": "code",
     "collapsed": false,
     "input": [
      "parser.binary[(u'ADJP', u'.', u'ADJ')]"
     ],
     "language": "python",
     "metadata": {},
     "outputs": [
      {
       "metadata": {},
       "output_type": "pyout",
       "prompt_number": 231,
       "text": [
        "1"
       ]
      }
     ],
     "prompt_number": 231
    },
    {
     "cell_type": "code",
     "collapsed": false,
     "input": [
      "n = len(sentence)\n",
      "w = [None]\n",
      "w.extend(sentence)\n",
      "pi = defaultdict(float)\n",
      "bp = defaultdict(float)\n",
      "for i in xrange(1, n+1):\n",
      "    for x in parser.nonterm:\n",
      "        pi[(i, i, x)] = parser.q_x_w(x, w[i])\n",
      "\n",
      "for l in xrange(1, n):\n",
      "    for i in xrange(1, n):\n",
      "        j = i + l\n",
      "        for x in parser.nonterm:\n",
      "            t = [(y, z, s) for s in xrange(i, j) for (xp, y, z) in parser.binary if xp==x]\n",
      "            if t:\n",
      "                bp[(i, j, x)] = max(t,\n",
      "                                key=lambda (y, z, s): parser.q_x_yy(x, y, z) * pi[(i, s, y)] * pi[(s+1, j, z)])\n",
      "                (y, z, s) = bp[(i, j, x)]\n",
      "                pi[(i, j, x)] = parser.q_x_yy(x, y, z) * pi[(i, s, y)] * pi[(s+1, j, z)]\n",
      "\n",
      "pi[(1, n, 'SBARQ')]"
     ],
     "language": "python",
     "metadata": {},
     "outputs": [
      {
       "metadata": {},
       "output_type": "pyout",
       "prompt_number": 361,
       "text": [
        "8.606855987636248e-13"
       ]
      }
     ],
     "prompt_number": 361
    },
    {
     "cell_type": "code",
     "collapsed": false,
     "input": [
      "print sentence\n",
      "print bp[(1, n, 'SBARQ')]\n",
      "print bp[(4, n, 'SBARQ')], sentence[6]\n",
      "print n"
     ],
     "language": "python",
     "metadata": {},
     "outputs": [
      {
       "output_type": "stream",
       "stream": "stdout",
       "text": [
        "['What', 'was', 'the', 'monetary', 'value', 'of', 'the', 'Nobel', 'Peace', 'Prize', 'in', '1989', '?']\n",
        "(u'WHNP+PRON', u'SBARQ', 1)\n",
        "(u'SQ', u'.', 12) the\n",
        "13\n"
       ]
      }
     ],
     "prompt_number": 366
    },
    {
     "cell_type": "code",
     "collapsed": false,
     "input": [
      "w = [None]\n",
      "w.extend(sentence)\n",
      "build(1, n, 'SBARQ', w)"
     ],
     "language": "python",
     "metadata": {},
     "outputs": [
      {
       "metadata": {},
       "output_type": "pyout",
       "prompt_number": 362,
       "text": [
        "['SBARQ',\n",
        " [u'WHNP+PRON', 'What'],\n",
        " [u'SBARQ',\n",
        "  [u'SQ',\n",
        "   [u'VERB', 'was'],\n",
        "   [u'NP',\n",
        "    [u'DET', 'the'],\n",
        "    [u'NP',\n",
        "     [u'NP', [u'NOUN', '_RARE_'], [u'NOUN', '_RARE_']],\n",
        "     [u'PP',\n",
        "      [u'ADP', 'of'],\n",
        "      [u'NP',\n",
        "       [u'DET', 'the'],\n",
        "       [u'NP',\n",
        "        [u'NOUN', '_RARE_'],\n",
        "        [u'NP',\n",
        "         [u'NP', [u'NOUN', '_RARE_'], [u'NOUN', '_RARE_']],\n",
        "         [u'PP', [u'ADP', 'in'], [u'NP+NOUN', '_RARE_']]]]]]]]],\n",
        "  [u'.', '?']]]"
       ]
      }
     ],
     "prompt_number": 362
    },
    {
     "cell_type": "code",
     "collapsed": false,
     "input": [
      "def build(start, end, tag, words):\n",
      "    tree = list()\n",
      "    tree.append(tag)\n",
      "    if start == end:\n",
      "        tree.append(words[start])\n",
      "    else:    \n",
      "        y1, y2, mid = bp[(start, end, tag)]\n",
      "        tree.append(build(start, mid, y1, words))\n",
      "        tree.append(build(mid+1, end, y2, words))\n",
      "\n",
      "    return tree"
     ],
     "language": "python",
     "metadata": {},
     "outputs": [],
     "prompt_number": 350
    },
    {
     "cell_type": "code",
     "collapsed": false,
     "input": [
      "bp[(1,2, 'WHADJP')]"
     ],
     "language": "python",
     "metadata": {},
     "outputs": [
      {
       "metadata": {},
       "output_type": "pyout",
       "prompt_number": 341,
       "text": [
        "(u'ADV', u'ADJ', 1)"
       ]
      }
     ],
     "prompt_number": 341
    },
    {
     "cell_type": "code",
     "collapsed": false,
     "input": [
      "        w = [None]\n",
      "        w.extend(sentence)\n",
      "        pi = defaultdict(float)\n",
      "        bp = defaultdict(float)\n",
      "        for i in xrange(1, n+1):\n",
      "            for x in parser.nonterm:\n",
      "                pi[(i, i, x)] = parser.q_x_w(x, w[i])"
     ],
     "language": "python",
     "metadata": {},
     "outputs": [],
     "prompt_number": 302
    },
    {
     "cell_type": "code",
     "collapsed": false,
     "input": [
      "w = [None]\n",
      "print w.extend(sentence)"
     ],
     "language": "python",
     "metadata": {},
     "outputs": [
      {
       "output_type": "stream",
       "stream": "stdout",
       "text": [
        "None\n"
       ]
      }
     ],
     "prompt_number": 320
    }
   ],
   "metadata": {}
  }
 ]
}