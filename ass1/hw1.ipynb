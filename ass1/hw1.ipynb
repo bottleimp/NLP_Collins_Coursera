{
 "metadata": {
  "name": ""
 },
 "nbformat": 3,
 "nbformat_minor": 0,
 "worksheets": [
  {
   "cells": [
    {
     "cell_type": "code",
     "collapsed": false,
     "input": [
      "import count_rare"
     ],
     "language": "python",
     "metadata": {},
     "outputs": [],
     "prompt_number": 1
    },
    {
     "cell_type": "code",
     "collapsed": false,
     "input": [
      "reload(count_rare)"
     ],
     "language": "python",
     "metadata": {},
     "outputs": [
      {
       "metadata": {},
       "output_type": "pyout",
       "prompt_number": 20,
       "text": [
        "<module 'count_rare' from 'count_rare.py'>"
       ]
      }
     ],
     "prompt_number": 20
    },
    {
     "cell_type": "heading",
     "level": 3,
     "metadata": {},
     "source": [
      "Replace rare words (freqs < 5) to \\_RARE\\_. "
     ]
    },
    {
     "cell_type": "code",
     "collapsed": false,
     "input": [
      "reducer = count_rare.Counter()\n",
      "input = file(\"./gene.train\", \"r\")\n",
      "output = file(\"./gene.rewrite\", \"w\")\n",
      "reducer.train(input)\n",
      "#reducer.write_counts(sys.stdout)\n",
      "input.seek(0)\n",
      "reducer.rewrite(input, output)"
     ],
     "language": "python",
     "metadata": {},
     "outputs": [],
     "prompt_number": 21
    },
    {
     "cell_type": "heading",
     "level": 3,
     "metadata": {},
     "source": [
      "Generate gene.counts"
     ]
    },
    {
     "cell_type": "code",
     "collapsed": false,
     "input": [
      "! python count_freqs.py gene.rewrite > gene.counts"
     ],
     "language": "python",
     "metadata": {},
     "outputs": [],
     "prompt_number": 28
    },
    {
     "cell_type": "code",
     "collapsed": false,
     "input": [
      "reducer.word_counts['floor']"
     ],
     "language": "python",
     "metadata": {},
     "outputs": [
      {
       "metadata": {},
       "output_type": "pyout",
       "prompt_number": 29,
       "text": [
        "6"
       ]
      }
     ],
     "prompt_number": 29
    }
   ],
   "metadata": {}
  }
 ]
}