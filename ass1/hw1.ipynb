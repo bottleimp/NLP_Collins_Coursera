{
 "metadata": {
  "name": "",
  "signature": "sha256:118c07ee403740cc30509ca8e0b818fe5f7719cf19df10b731d34edcd085ee3b"
 },
 "nbformat": 3,
 "nbformat_minor": 0,
 "worksheets": [
  {
   "cells": [
    {
     "cell_type": "heading",
     "level": 1,
     "metadata": {},
     "source": [
      "P1"
     ]
    },
    {
     "cell_type": "code",
     "collapsed": false,
     "input": [
      "import p1, hmm\n",
      "reload(p1)\n",
      "reload(hmm)"
     ],
     "language": "python",
     "metadata": {},
     "outputs": [
      {
       "metadata": {},
       "output_type": "pyout",
       "prompt_number": 502,
       "text": [
        "<module 'hmm' from 'hmm.pyc'>"
       ]
      }
     ],
     "prompt_number": 502
    },
    {
     "cell_type": "code",
     "collapsed": false,
     "input": [
      "from p1 import *\n",
      "from hmm import *"
     ],
     "language": "python",
     "metadata": {},
     "outputs": [],
     "prompt_number": 503
    },
    {
     "cell_type": "heading",
     "level": 3,
     "metadata": {},
     "source": [
      "Training"
     ]
    },
    {
     "cell_type": "code",
     "collapsed": false,
     "input": [
      "# 1. training\n",
      "train_filename = 'gene.train'\n",
      "rare_filename = 'gene.train.rare'\n",
      "\n",
      "tagger = SimpleTagger(3)\n",
      "train(tagger, train_filename, rare_filename)"
     ],
     "language": "python",
     "metadata": {},
     "outputs": [],
     "prompt_number": 504
    },
    {
     "cell_type": "code",
     "collapsed": false,
     "input": [
      "# validating\n",
      "tagger.argmax_e('_RARE_')"
     ],
     "language": "python",
     "metadata": {},
     "outputs": [
      {
       "metadata": {},
       "output_type": "pyout",
       "prompt_number": 505,
       "text": [
        "('_RARE_', 'I-GENE')"
       ]
      }
     ],
     "prompt_number": 505
    },
    {
     "cell_type": "heading",
     "level": 3,
     "metadata": {},
     "source": [
      "Tagger"
     ]
    },
    {
     "cell_type": "code",
     "collapsed": false,
     "input": [
      "test_filename = 'gene.dev'\n",
      "pred_filename = 'gene_dev.p1.out'\n",
      "\n",
      "tag(tagger, file(test_filename), file(pred_filename, 'w'))"
     ],
     "language": "python",
     "metadata": {},
     "outputs": [
      {
       "output_type": "stream",
       "stream": "stdout",
       "text": [
        "1000  lines passed\n",
        "2000"
       ]
      },
      {
       "output_type": "stream",
       "stream": "stdout",
       "text": [
        "  lines passed\n",
        "3000"
       ]
      },
      {
       "output_type": "stream",
       "stream": "stdout",
       "text": [
        "  lines passed\n",
        "4000"
       ]
      },
      {
       "output_type": "stream",
       "stream": "stdout",
       "text": [
        "  lines passed\n",
        "5000"
       ]
      },
      {
       "output_type": "stream",
       "stream": "stdout",
       "text": [
        "  lines passed\n",
        "6000"
       ]
      },
      {
       "output_type": "stream",
       "stream": "stdout",
       "text": [
        "  lines passed\n",
        "7000"
       ]
      },
      {
       "output_type": "stream",
       "stream": "stdout",
       "text": [
        "  lines passed\n",
        "8000"
       ]
      },
      {
       "output_type": "stream",
       "stream": "stdout",
       "text": [
        "  lines passed\n",
        "9000"
       ]
      },
      {
       "output_type": "stream",
       "stream": "stdout",
       "text": [
        "  lines passed\n",
        "10000"
       ]
      },
      {
       "output_type": "stream",
       "stream": "stdout",
       "text": [
        "  lines passed\n",
        "11000"
       ]
      },
      {
       "output_type": "stream",
       "stream": "stdout",
       "text": [
        "  lines passed\n",
        "12000"
       ]
      },
      {
       "output_type": "stream",
       "stream": "stdout",
       "text": [
        "  lines passed\n",
        "13000"
       ]
      },
      {
       "output_type": "stream",
       "stream": "stdout",
       "text": [
        "  lines passed\n",
        "14000"
       ]
      },
      {
       "output_type": "stream",
       "stream": "stdout",
       "text": [
        "  lines passed\n",
        "15000"
       ]
      },
      {
       "output_type": "stream",
       "stream": "stdout",
       "text": [
        "  lines passed\n"
       ]
      }
     ],
     "prompt_number": 506
    },
    {
     "cell_type": "code",
     "collapsed": false,
     "input": [
      "%run eval_gene_tagger.py gene.key gene_dev.p1.out"
     ],
     "language": "python",
     "metadata": {},
     "outputs": [
      {
       "output_type": "stream",
       "stream": "stdout",
       "text": [
        "Found 2669 GENEs. Expected 642 GENEs; Correct: 424.\n",
        "\n",
        "\t precision \trecall \t\tF1-Score\n",
        "GENE:\t 0.158861\t0.660436\t0.256116\n"
       ]
      }
     ],
     "prompt_number": 476
    },
    {
     "cell_type": "heading",
     "level": 1,
     "metadata": {},
     "source": [
      "P2"
     ]
    },
    {
     "cell_type": "code",
     "collapsed": false,
     "input": [
      "import p2, hmm\n",
      "reload(p2)\n",
      "reload(hmm)"
     ],
     "language": "python",
     "metadata": {},
     "outputs": [
      {
       "metadata": {},
       "output_type": "pyout",
       "prompt_number": 204,
       "text": [
        "<module 'hmm' from 'hmm.py'>"
       ]
      }
     ],
     "prompt_number": 204
    },
    {
     "cell_type": "code",
     "collapsed": false,
     "input": [
      "from p2 import *\n",
      "from hmm import *"
     ],
     "language": "python",
     "metadata": {},
     "outputs": [],
     "prompt_number": 205
    },
    {
     "cell_type": "code",
     "collapsed": false,
     "input": [
      "# 1. training\n",
      "train_filename = 'gene.train'\n",
      "rare_filename = 'gene.train.rare'\n",
      "\n",
      "tagger = ViterbiTagger(3)\n",
      "train(tagger, train_filename, rare_filename)"
     ],
     "language": "python",
     "metadata": {},
     "outputs": [],
     "prompt_number": 206
    },
    {
     "cell_type": "code",
     "collapsed": false,
     "input": [
      "print tagger.emission_counts[('Comparison', 'O')]\n",
      "print tagger.ngram_counts[0][('I-GENE',)]\n",
      "print tagger.e_xy('Comarison', 'O')\n",
      "print tagger.q(y, y2, y1)\n",
      "print tagger.q('STOP', '*', 'I-GENE'), tagger.pi[(1, '*', 'I-GENE')]\n",
      "print tagger.q('STOP', '*', 'O'), tagger.pi[(1, '*', 'O')]\n",
      "print tagger.pi"
     ],
     "language": "python",
     "metadata": {},
     "outputs": [
      {
       "output_type": "stream",
       "stream": "stdout",
       "text": [
        "40\n",
        "41072\n",
        "0.083392248673\n"
       ]
      }
     ],
     "prompt_number": 149
    },
    {
     "cell_type": "code",
     "collapsed": false,
     "input": [
      "tagger.tag(['Comparison'])"
     ],
     "language": "python",
     "metadata": {},
     "outputs": [
      {
       "metadata": {},
       "output_type": "pyout",
       "prompt_number": 195,
       "text": [
        "['O']"
       ]
      }
     ],
     "prompt_number": 195
    },
    {
     "cell_type": "code",
     "collapsed": false,
     "input": [
      "reload(p2)\n",
      "from p2 import tag\n",
      "\n",
      "test_filename = 'gene.dev'\n",
      "pred_filename = 'gene_dev.p2.out'\n",
      "\n",
      "tag(tagger, file(test_filename), file(pred_filename, 'w'))"
     ],
     "language": "python",
     "metadata": {},
     "outputs": [
      {
       "output_type": "stream",
       "stream": "stdout",
       "text": [
        "100  sentence passed\n",
        "200"
       ]
      },
      {
       "output_type": "stream",
       "stream": "stdout",
       "text": [
        "  sentence passed\n",
        "300"
       ]
      },
      {
       "output_type": "stream",
       "stream": "stdout",
       "text": [
        "  sentence passed\n",
        "400"
       ]
      },
      {
       "output_type": "stream",
       "stream": "stdout",
       "text": [
        "  sentence passed\n",
        "500"
       ]
      },
      {
       "output_type": "stream",
       "stream": "stdout",
       "text": [
        "  sentence passed\n"
       ]
      }
     ],
     "prompt_number": 209
    },
    {
     "cell_type": "code",
     "collapsed": false,
     "input": [
      "%run eval_gene_tagger.py gene.key gene_dev.p2.out"
     ],
     "language": "python",
     "metadata": {},
     "outputs": [
      {
       "output_type": "stream",
       "stream": "stdout",
       "text": [
        "Found 374 GENEs. Expected 642 GENEs; Correct: 202.\n",
        "\n",
        "\t precision \trecall \t\tF1-Score\n",
        "GENE:\t 0.540107\t0.314642\t0.397638\n"
       ]
      }
     ],
     "prompt_number": 210
    },
    {
     "cell_type": "heading",
     "level": 1,
     "metadata": {},
     "source": [
      "P3"
     ]
    },
    {
     "cell_type": "code",
     "collapsed": false,
     "input": [
      "import re\n",
      "pattern = '\\d+'\n",
      "print re.search(pattern, 'cat1dog', re.VERBOSE)\n",
      "print re.search(pattern, 'catnodog', re.VERBOSE)\n",
      "print re.search(pattern, 'cat12dog', re.VERBOSE)\n",
      "print re.search(pattern, 'cat12dog')"
     ],
     "language": "python",
     "metadata": {},
     "outputs": [
      {
       "output_type": "stream",
       "stream": "stdout",
       "text": [
        "<_sre.SRE_Match object at 0x10380be68>\n",
        "None\n",
        "<_sre.SRE_Match object at 0x10380be68>\n",
        "<_sre.SRE_Match object at 0x10380be68>\n"
       ]
      }
     ],
     "prompt_number": 6
    },
    {
     "cell_type": "code",
     "collapsed": false,
     "input": [
      "pattern = '[A-Z]+$'\n",
      "print re.search(pattern, 'CAT')\n",
      "print re.search(pattern, 'Cat')\n",
      "print re.search(pattern, 'CatC')\n",
      "print re.search(pattern, 'cat')"
     ],
     "language": "python",
     "metadata": {},
     "outputs": [
      {
       "output_type": "stream",
       "stream": "stdout",
       "text": [
        "<_sre.SRE_Match object at 0x1047ef168>\n",
        "None\n",
        "<_sre.SRE_Match object at 0x1047ef168>\n",
        "None\n"
       ]
      }
     ],
     "prompt_number": 11
    },
    {
     "cell_type": "code",
     "collapsed": false,
     "input": [
      "pattern = '^[A-Z]+$'\n",
      "print re.search(pattern, 'CAT')\n",
      "print re.search(pattern, 'Cat')\n",
      "print re.search(pattern, 'cat')"
     ],
     "language": "python",
     "metadata": {},
     "outputs": [
      {
       "output_type": "stream",
       "stream": "stdout",
       "text": [
        "<_sre.SRE_Match object at 0x1047ef238>\n",
        "None\n",
        "None\n"
       ]
      }
     ],
     "prompt_number": 9
    },
    {
     "cell_type": "code",
     "collapsed": false,
     "input": [
      "import p3, hmm\n",
      "reload(p3)\n",
      "reload(hmm)"
     ],
     "language": "python",
     "metadata": {},
     "outputs": [
      {
       "metadata": {},
       "output_type": "pyout",
       "prompt_number": 36,
       "text": [
        "<module 'hmm' from 'hmm.py'>"
       ]
      }
     ],
     "prompt_number": 36
    },
    {
     "cell_type": "code",
     "collapsed": false,
     "input": [
      "from p3 import *\n",
      "from hmm import *"
     ],
     "language": "python",
     "metadata": {},
     "outputs": [],
     "prompt_number": 37
    },
    {
     "cell_type": "code",
     "collapsed": false,
     "input": [
      "# 1. training\n",
      "train_filename = 'gene.train'\n",
      "rare_filename = 'gene.train.cats'\n",
      "\n",
      "tagger = ViterbiTaggerEx(3)\n",
      "train(tagger, train_filename, rare_filename)"
     ],
     "language": "python",
     "metadata": {},
     "outputs": [],
     "prompt_number": 38
    },
    {
     "cell_type": "code",
     "collapsed": false,
     "input": [
      "print tagger.tag(['Comparison'])\n",
      "print tagger.argmax_e('_RARE_')\n",
      "print tagger.argmax_e('_NUMERIC_')\n",
      "tagger.group_rare('Cat1hehe')"
     ],
     "language": "python",
     "metadata": {},
     "outputs": [
      {
       "output_type": "stream",
       "stream": "stdout",
       "text": [
        "['O']\n",
        "('_RARE_', 'I-GENE')\n",
        "('_RARE_', 'I-GENE')\n"
       ]
      },
      {
       "metadata": {},
       "output_type": "pyout",
       "prompt_number": 39,
       "text": [
        "'_NUMERIC_'"
       ]
      }
     ],
     "prompt_number": 39
    },
    {
     "cell_type": "code",
     "collapsed": false,
     "input": [
      "test_filename = 'gene.dev'\n",
      "pred_filename = 'gene_dev.p3.out'\n",
      "\n",
      "tag(tagger, file(test_filename), file(pred_filename, 'w'))"
     ],
     "language": "python",
     "metadata": {},
     "outputs": [
      {
       "output_type": "stream",
       "stream": "stdout",
       "text": [
        "100  sentence passed\n",
        "200"
       ]
      },
      {
       "output_type": "stream",
       "stream": "stdout",
       "text": [
        "  sentence passed\n",
        "300"
       ]
      },
      {
       "output_type": "stream",
       "stream": "stdout",
       "text": [
        "  sentence passed\n",
        "400"
       ]
      },
      {
       "output_type": "stream",
       "stream": "stdout",
       "text": [
        "  sentence passed\n",
        "500"
       ]
      },
      {
       "output_type": "stream",
       "stream": "stdout",
       "text": [
        "  sentence passed\n"
       ]
      }
     ],
     "prompt_number": 40
    },
    {
     "cell_type": "code",
     "collapsed": false,
     "input": [
      "%run eval_gene_tagger.py gene.key gene_dev.p3.out"
     ],
     "language": "python",
     "metadata": {},
     "outputs": [
      {
       "output_type": "stream",
       "stream": "stdout",
       "text": [
        "Found 415 GENEs. Expected 642 GENEs; Correct: 222.\n",
        "\n",
        "\t precision \trecall \t\tF1-Score\n",
        "GENE:\t 0.534940\t0.345794\t0.420057\n"
       ]
      }
     ],
     "prompt_number": 41
    }
   ],
   "metadata": {}
  }
 ]
}